{
 "cells": [
  {
   "cell_type": "markdown",
   "metadata": {},
   "source": [
    "## Imports"
   ]
  },
  {
   "cell_type": "code",
   "execution_count": 1,
   "metadata": {},
   "outputs": [],
   "source": [
    "import cv2\n",
    "import numpy as np\n",
    "import random\n",
    "from sklearn.model_selection import train_test_split, GridSearchCV\n",
    "from sklearn.ensemble import RandomForestClassifier\n",
    "from sklearn.metrics import accuracy_score\n",
    "from keras.datasets import mnist\n",
    "import warnings"
   ]
  },
  {
   "cell_type": "markdown",
   "metadata": {},
   "source": [
    "## Function definitions"
   ]
  },
  {
   "cell_type": "code",
   "execution_count": 2,
   "metadata": {},
   "outputs": [],
   "source": [
    "def apply_rotation(image, degrees):\n",
    "    \"\"\"\n",
    "    Rotates an image by a specified angle using OpenCV's affine transformation.\n",
    "\n",
    "    Parameters:\n",
    "    - image (numpy array): The image to rotate.\n",
    "    - degrees (float): The angle in degrees to rotate the image.\n",
    "\n",
    "    Returns:\n",
    "    - numpy array: The rotated image.\n",
    "    \"\"\"\n",
    "    num_rows, num_cols = image.shape[:2]\n",
    "    center = (num_cols / 2, num_rows / 2)\n",
    "    rotation_matrix = cv2.getRotationMatrix2D(center, degrees, 1)\n",
    "    return cv2.warpAffine(image, rotation_matrix, (num_cols, num_rows))"
   ]
  },
  {
   "cell_type": "code",
   "execution_count": 3,
   "metadata": {},
   "outputs": [],
   "source": [
    "def augment_images(data, oversampling_factor, rotation_choices):\n",
    "    \"\"\"\n",
    "    Augments a dataset by rotating images and oversampling to artificially increase the dataset size.\n",
    "\n",
    "    Parameters:\n",
    "    - data (tuple): A tuple containing images and their labels (images, labels).\n",
    "    - oversampling_factor (float): The factor by which to oversample the data.\n",
    "    - rotation_choices (list): A list of angles from which one will be randomly selected for each image rotation.\n",
    "\n",
    "    Returns:\n",
    "    - tuple: A tuple containing the augmented images and labels.\n",
    "    \"\"\"\n",
    "    images, labels = data\n",
    "    total_images = images.shape[0]\n",
    "    extra_samples = int(total_images * (oversampling_factor - 1))\n",
    "\n",
    "    augmented_imgs = []\n",
    "    augmented_lbls = []\n",
    "    for _ in range(extra_samples):\n",
    "        index = random.randint(0, total_images - 1)\n",
    "        degrees = random.choice(rotation_choices)\n",
    "        augmented_imgs.append(apply_rotation(images[index], degrees))\n",
    "        augmented_lbls.append(labels[index])\n",
    "\n",
    "    augmented_imgs = np.array(augmented_imgs)\n",
    "    augmented_lbls = np.array(augmented_lbls)\n",
    "    return np.concatenate([images, augmented_imgs]), np.concatenate([labels, augmented_lbls])"
   ]
  },
  {
   "cell_type": "code",
   "execution_count": 4,
   "metadata": {},
   "outputs": [],
   "source": [
    "def model_training(data):\n",
    "    \"\"\"\n",
    "    Trains a RandomForestClassifier using a GridSearch to optimize parameters.\n",
    "\n",
    "    Parameters:\n",
    "    - data (tuple): A tuple containing features and targets for training (features, targets).\n",
    "\n",
    "    Returns:\n",
    "    - RandomForestClassifier: The best model found via GridSearchCV.\n",
    "    \"\"\"\n",
    "    features, targets = data\n",
    "    features_reshaped = features.reshape(features.shape[0], -1)\n",
    "    X_train, _, y_train, _ = train_test_split(features_reshaped, targets, test_size=0.2)\n",
    "    params = {'n_estimators': [10, 25], 'criterion': ['gini', 'entropy']}\n",
    "    grid = GridSearchCV(RandomForestClassifier(), params, cv=2, verbose=3)\n",
    "    grid.fit(X_train, y_train)\n",
    "    return grid.best_estimator_"
   ]
  },
  {
   "cell_type": "code",
   "execution_count": 5,
   "metadata": {},
   "outputs": [],
   "source": [
    "def performance_evaluation(model, data, min_accuracy):\n",
    "    \"\"\"\n",
    "    Evaluates the accuracy of a model and checks if it exceeds a specified threshold.\n",
    "\n",
    "    Parameters:\n",
    "    - model (RandomForestClassifier): The model to evaluate.\n",
    "    - data (tuple): A tuple containing features and the true labels (features, true_labels).\n",
    "    - min_accuracy (float): The threshold for deeming the model's performance satisfactory.\n",
    "\n",
    "    Returns:\n",
    "    - bool: True if the model's accuracy exceeds the threshold, False otherwise.\n",
    "    \"\"\"\n",
    "    features, true_labels = data\n",
    "    predicted_labels = model.predict(features.reshape(features.shape[0], -1))\n",
    "    return accuracy_score(true_labels, predicted_labels) > min_accuracy"
   ]
  },
  {
   "cell_type": "markdown",
   "metadata": {},
   "source": [
    "## Function calls and Training"
   ]
  },
  {
   "cell_type": "code",
   "execution_count": 6,
   "metadata": {},
   "outputs": [
    {
     "name": "stdout",
     "output_type": "stream",
     "text": [
      "Fitting 2 folds for each of 4 candidates, totalling 8 fits\n",
      "[CV 1/2] END ...criterion=gini, n_estimators=10;, score=0.934 total time=   0.8s\n",
      "[CV 2/2] END ...criterion=gini, n_estimators=10;, score=0.928 total time=   0.8s\n",
      "[CV 1/2] END ...criterion=gini, n_estimators=25;, score=0.952 total time=   2.0s\n",
      "[CV 2/2] END ...criterion=gini, n_estimators=25;, score=0.951 total time=   2.0s\n",
      "[CV 1/2] END criterion=entropy, n_estimators=10;, score=0.932 total time=   0.9s\n",
      "[CV 2/2] END criterion=entropy, n_estimators=10;, score=0.932 total time=   0.9s\n",
      "[CV 1/2] END criterion=entropy, n_estimators=25;, score=0.951 total time=   2.2s\n",
      "[CV 2/2] END criterion=entropy, n_estimators=25;, score=0.951 total time=   2.2s\n",
      "Initial model performance satisfactory: True\n",
      "Augmenting with rotation by -30 degrees.\n",
      "Performance not satisfactory, augmenting training data and retraining model.\n",
      "Fitting 2 folds for each of 4 candidates, totalling 8 fits\n",
      "[CV 1/2] END ...criterion=gini, n_estimators=10;, score=0.937 total time=   2.0s\n",
      "[CV 2/2] END ...criterion=gini, n_estimators=10;, score=0.940 total time=   2.1s\n",
      "[CV 1/2] END ...criterion=gini, n_estimators=25;, score=0.956 total time=   5.1s\n",
      "[CV 2/2] END ...criterion=gini, n_estimators=25;, score=0.957 total time=   5.1s\n",
      "[CV 1/2] END criterion=entropy, n_estimators=10;, score=0.942 total time=   2.2s\n",
      "[CV 2/2] END criterion=entropy, n_estimators=10;, score=0.941 total time=   2.2s\n",
      "[CV 1/2] END criterion=entropy, n_estimators=25;, score=0.957 total time=   5.4s\n",
      "[CV 2/2] END criterion=entropy, n_estimators=25;, score=0.958 total time=   5.5s\n",
      "Augmenting with rotation by -20 degrees.\n",
      "Performance not satisfactory, augmenting training data and retraining model.\n",
      "Fitting 2 folds for each of 4 candidates, totalling 8 fits\n",
      "[CV 1/2] END ...criterion=gini, n_estimators=10;, score=0.953 total time=   5.0s\n",
      "[CV 2/2] END ...criterion=gini, n_estimators=10;, score=0.952 total time=   4.9s\n",
      "[CV 1/2] END ...criterion=gini, n_estimators=25;, score=0.966 total time=  12.1s\n",
      "[CV 2/2] END ...criterion=gini, n_estimators=25;, score=0.966 total time=  12.3s\n",
      "[CV 1/2] END criterion=entropy, n_estimators=10;, score=0.954 total time=   5.0s\n",
      "[CV 2/2] END criterion=entropy, n_estimators=10;, score=0.953 total time=   5.0s\n",
      "[CV 1/2] END criterion=entropy, n_estimators=25;, score=0.966 total time=  12.3s\n",
      "[CV 2/2] END criterion=entropy, n_estimators=25;, score=0.966 total time=  12.3s\n",
      "Augmenting with rotation by -10 degrees.\n",
      "Augmenting with rotation by 10 degrees.\n",
      "Performance not satisfactory, augmenting training data and retraining model.\n",
      "Fitting 2 folds for each of 4 candidates, totalling 8 fits\n",
      "[CV 1/2] END ...criterion=gini, n_estimators=10;, score=0.966 total time=  11.9s\n",
      "[CV 2/2] END ...criterion=gini, n_estimators=10;, score=0.966 total time=  11.9s\n",
      "[CV 1/2] END ...criterion=gini, n_estimators=25;, score=0.976 total time=  28.9s\n",
      "[CV 2/2] END ...criterion=gini, n_estimators=25;, score=0.977 total time=  28.9s\n",
      "[CV 1/2] END criterion=entropy, n_estimators=10;, score=0.968 total time=  10.9s\n",
      "[CV 2/2] END criterion=entropy, n_estimators=10;, score=0.968 total time=  10.8s\n",
      "[CV 1/2] END criterion=entropy, n_estimators=25;, score=0.977 total time=  26.9s\n",
      "[CV 2/2] END criterion=entropy, n_estimators=25;, score=0.977 total time=  26.7s\n",
      "Augmenting with rotation by 20 degrees.\n",
      "Performance not satisfactory, augmenting training data and retraining model.\n",
      "Fitting 2 folds for each of 4 candidates, totalling 8 fits\n",
      "[CV 1/2] END ...criterion=gini, n_estimators=10;, score=0.975 total time=  28.2s\n",
      "[CV 2/2] END ...criterion=gini, n_estimators=10;, score=0.974 total time=  28.4s\n",
      "[CV 1/2] END ...criterion=gini, n_estimators=25;, score=0.982 total time= 1.2min\n",
      "[CV 2/2] END ...criterion=gini, n_estimators=25;, score=0.982 total time= 1.1min\n",
      "[CV 1/2] END criterion=entropy, n_estimators=10;, score=0.976 total time=  24.5s\n",
      "[CV 2/2] END criterion=entropy, n_estimators=10;, score=0.975 total time=  24.6s\n",
      "[CV 1/2] END criterion=entropy, n_estimators=25;, score=0.982 total time=  59.5s\n",
      "[CV 2/2] END criterion=entropy, n_estimators=25;, score=0.982 total time=  59.9s\n",
      "Augmenting with rotation by 30 degrees.\n",
      "Performance not satisfactory, augmenting training data and retraining model.\n",
      "Fitting 2 folds for each of 4 candidates, totalling 8 fits\n",
      "[CV 1/2] END ...criterion=gini, n_estimators=10;, score=0.982 total time=13.9min\n",
      "[CV 2/2] END ..criterion=gini, n_estimators=10;, score=0.982 total time=118.4min\n"
     ]
    }
   ],
   "source": [
    "warnings.filterwarnings('ignore')\n",
    "random.seed(42)\n",
    "np.random.seed(42)\n",
    "\n",
    "(train_images, train_labels), (test_images, test_labels) = mnist.load_data()\n",
    "\n",
    "initial_model = model_training((train_images, train_labels))\n",
    "initial_performance = performance_evaluation(initial_model, (test_images, test_labels), 0.95)\n",
    "print(f'Initial model performance satisfactory: {initial_performance}')\n",
    "\n",
    "angles_to_test = [-30, -20, -10, 10, 20, 30]\n",
    "for angle in angles_to_test:\n",
    "    print(f'Augmenting with rotation by {angle} degrees.')\n",
    "    test_images, test_labels = augment_images((test_images, test_labels), 2, [angle])\n",
    "    performance_ok = performance_evaluation(initial_model, (test_images, test_labels), 0.95)\n",
    "\n",
    "    while not performance_ok:\n",
    "        print('Performance not satisfactory, augmenting training data and retraining model.')\n",
    "        train_images, train_labels = augment_images((train_images, train_labels), 2, [angle])\n",
    "        initial_model = model_training((train_images, train_labels))\n",
    "        performance_ok = performance_evaluation(initial_model, (test_images, test_labels), 0.95)\n"
   ]
  }
 ],
 "metadata": {
  "kernelspec": {
   "display_name": "ass2env",
   "language": "python",
   "name": "python3"
  },
  "language_info": {
   "codemirror_mode": {
    "name": "ipython",
    "version": 3
   },
   "file_extension": ".py",
   "mimetype": "text/x-python",
   "name": "python",
   "nbconvert_exporter": "python",
   "pygments_lexer": "ipython3",
   "version": "3.12.2"
  }
 },
 "nbformat": 4,
 "nbformat_minor": 2
}
